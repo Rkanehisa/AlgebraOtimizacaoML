{
 "cells": [
  {
   "cell_type": "code",
   "execution_count": 31,
   "metadata": {},
   "outputs": [],
   "source": [
    "from IPython.display import Latex\n",
    "import numpy as np\n",
    "import random\n",
    "import scipy.optimize as optimize\n",
    "import matplotlib.pyplot as plt"
   ]
  },
  {
   "cell_type": "markdown",
   "metadata": {},
   "source": [
    "$f(x_1,x_2,x_3) = 100(x_1 - x_2^{2}) - (x_1 - 1)^2 - 90(x_2 - x_3^{2}) - (x_2 - 1)^2$"
   ]
  },
  {
   "cell_type": "code",
   "execution_count": 20,
   "metadata": {},
   "outputs": [],
   "source": [
    "def f(params):\n",
    "    x1, x2, x3 = params\n",
    "    return -(100*(x1 - x2**2) - (x1 - 1)**2 + 90*(x2 - x3**2) - (x2 - 1)**2)"
   ]
  },
  {
   "cell_type": "code",
   "execution_count": 21,
   "metadata": {},
   "outputs": [],
   "source": [
    "def gradient(params):\n",
    "    x1, x2, x3 = params\n",
    "    grad = np.zeros((3,1))\n",
    "    grad[0][0] = 2*(params[0] - 51)\n",
    "    grad[1][0] = 202*params[1] - 92\n",
    "    grad[2][0] = 180*params[2]\n",
    "    return grad"
   ]
  },
  {
   "cell_type": "code",
   "execution_count": 22,
   "metadata": {},
   "outputs": [],
   "source": [
    "def stopping_criteria(x_new, x_old, tol):\n",
    "    rel1 = np.absolute((x_new[0][0]- x_old[0][0])/x_old[0][0])\n",
    "    rel2 = np.absolute((x_new[1][0]- x_old[1][0])/x_old[1][0])\n",
    "    rel3 = np.absolute((x_new[2][0]- x_old[2][0])/x_old[2][0])\n",
    "    \n",
    "    if rel1 <= tol and rel2 <= tol and rel3 <= tol:\n",
    "        return True\n",
    "    return False"
   ]
  },
  {
   "cell_type": "code",
   "execution_count": 109,
   "metadata": {},
   "outputs": [],
   "source": [
    "def gradient_descent(function, alpha, tol):\n",
    "    t = 0\n",
    "    x = np.full((3,1), 0.5)\n",
    "    x_new = x\n",
    "    while stopping_criteria(x_new, x, tol):\n",
    "        grad = gradient(x)\n",
    "        x_new = x - alpha*grad\n",
    "        x = x_new\n",
    "        t+=1\n",
    "    return x, f(x), t"
   ]
  },
  {
   "cell_type": "code",
   "execution_count": null,
   "metadata": {},
   "outputs": [],
   "source": [
    "learning_rate = 10**(-6)\n",
    "tolerance = 10**(-5)\n",
    "\n",
    "(argmin, mini, t) = gradient_descent(f,learning_rate,tolerance)\n",
    "print ('x = (', argmin.T,\")\")\n",
    "print ('min :', mini)\n",
    "print ('total: ',t )"
   ]
  },
  {
   "cell_type": "code",
   "execution_count": 97,
   "metadata": {},
   "outputs": [],
   "source": [
    "initial_guess = [0.5, 0.5, 0.5]\n"
   ]
  },
  {
   "cell_type": "code",
   "execution_count": 98,
   "metadata": {},
   "outputs": [
    {
     "name": "stdout",
     "output_type": "stream",
     "text": [
      "x = ( [[5.09857609e+001 4.55445545e-001 1.37202030e-320]] )\n",
      "min : -2619.950495049422\n"
     ]
    }
   ],
   "source": [
    "result = optimize.minimize(f, initial_guess)\n",
    "print ('x = (', argmin.T,\")\")\n",
    "print ('min :', f(result.x))\n"
   ]
  },
  {
   "cell_type": "code",
   "execution_count": 99,
   "metadata": {},
   "outputs": [
    {
     "name": "stdout",
     "output_type": "stream",
     "text": [
      "x = ( [[5.09857609e+001 4.55445545e-001 1.37202030e-320]] )\n",
      "min : -2619.9504950412893\n"
     ]
    }
   ],
   "source": [
    "result = optimize.minimize(f, initial_guess,method=\"Nelder-Mead\")\n",
    "print ('x = (', argmin.T,\")\")\n",
    "print ('min :', f(result.x))\n"
   ]
  },
  {
   "cell_type": "code",
   "execution_count": 100,
   "metadata": {},
   "outputs": [
    {
     "name": "stdout",
     "output_type": "stream",
     "text": [
      "x = ( [[5.09857609e+001 4.55445545e-001 1.37202030e-320]] )\n",
      "min : -2619.9504950494406\n"
     ]
    }
   ],
   "source": [
    "result = optimize.minimize(f, initial_guess,method=\"L-BFGS-B\")\n",
    "print ('x = (', argmin.T,\")\")\n",
    "print ('min :', f(result.x))\n"
   ]
  },
  {
   "cell_type": "code",
   "execution_count": null,
   "metadata": {},
   "outputs": [],
   "source": []
  }
 ],
 "metadata": {
  "kernelspec": {
   "display_name": "Python 3",
   "language": "python",
   "name": "python3"
  },
  "language_info": {
   "codemirror_mode": {
    "name": "ipython",
    "version": 3
   },
   "file_extension": ".py",
   "mimetype": "text/x-python",
   "name": "python",
   "nbconvert_exporter": "python",
   "pygments_lexer": "ipython3",
   "version": "3.7.3"
  }
 },
 "nbformat": 4,
 "nbformat_minor": 2
}

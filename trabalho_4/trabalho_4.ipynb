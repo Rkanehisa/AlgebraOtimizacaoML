{
 "cells": [
  {
   "cell_type": "code",
   "execution_count": 39,
   "metadata": {},
   "outputs": [],
   "source": [
    "from IPython.display import Latex\n",
    "import numpy as np\n",
    "import random\n",
    "import scipy.optimize as optimize"
   ]
  },
  {
   "cell_type": "markdown",
   "metadata": {},
   "source": [
    "$f(x_1,x_2,x_3) = 100(x_1 - x_2^{2}) - (x_1 - 1)^2 - 90(x_2 - x_3^{2}) - (x_2 - 1)^2$"
   ]
  },
  {
   "cell_type": "code",
   "execution_count": 40,
   "metadata": {},
   "outputs": [],
   "source": [
    "def f(params):\n",
    "    x1, x2, x3 = params\n",
    "    return 100*(x1- (x2**2)) - (x1 - 1)**2 - 90*(x2-(x3**3))**2 - (x2 -1)**2"
   ]
  },
  {
   "cell_type": "code",
   "execution_count": 41,
   "metadata": {},
   "outputs": [],
   "source": [
    "initial_guess = [0, 0, 0]\n"
   ]
  },
  {
   "cell_type": "code",
   "execution_count": 45,
   "metadata": {},
   "outputs": [
    {
     "name": "stdout",
     "output_type": "stream",
     "text": [
      "[-1.85229600e+09 -3.63194777e+07  0.00000000e+00]\n"
     ]
    }
   ],
   "source": [
    "result = optimize.minimize(f, initial_guess)\n",
    "print(result.x)"
   ]
  },
  {
   "cell_type": "code",
   "execution_count": 46,
   "metadata": {},
   "outputs": [
    {
     "name": "stdout",
     "output_type": "stream",
     "text": [
      "[-8.31799569e+50  1.90900722e+50  2.17813802e+50]\n"
     ]
    }
   ],
   "source": [
    "result = optimize.minimize(f, initial_guess,method=\"Nelder-Mead\")\n",
    "print(result.x)"
   ]
  },
  {
   "cell_type": "code",
   "execution_count": 47,
   "metadata": {},
   "outputs": [
    {
     "name": "stdout",
     "output_type": "stream",
     "text": [
      "[-6.53067413e+08 -1.28052311e+07  0.00000000e+00]\n"
     ]
    }
   ],
   "source": [
    "result = optimize.minimize(f, initial_guess,method=\"L-BFGS-B\")\n",
    "print(result.x)\n"
   ]
  }
 ],
 "metadata": {
  "kernelspec": {
   "display_name": "Python 3",
   "language": "python",
   "name": "python3"
  },
  "language_info": {
   "codemirror_mode": {
    "name": "ipython",
    "version": 3
   },
   "file_extension": ".py",
   "mimetype": "text/x-python",
   "name": "python",
   "nbconvert_exporter": "python",
   "pygments_lexer": "ipython3",
   "version": "3.7.1"
  }
 },
 "nbformat": 4,
 "nbformat_minor": 2
}

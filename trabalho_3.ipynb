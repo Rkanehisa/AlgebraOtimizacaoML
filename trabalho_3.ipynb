{
 "cells": [
  {
   "cell_type": "code",
   "execution_count": 51,
   "metadata": {},
   "outputs": [],
   "source": [
    "import numpy as np\n",
    "import random\n",
    "import sklearn\n",
    "from sklearn.datasets.samples_generator import make_regression \n",
    "import pylab\n",
    "from scipy import stats\n",
    "import matplotlib.pyplot as plt\n",
    "\n",
    "from mpl_toolkits.mplot3d import Axes3D"
   ]
  },
  {
   "cell_type": "code",
   "execution_count": 52,
   "metadata": {},
   "outputs": [],
   "source": [
    "#Carrega os dados\n",
    "\n",
    "x = np.load(\"Ex3X.npy\")\n",
    "y = np.load(\"Ex3y.npy\")\n",
    "\n",
    "x = np.array([(1,i[0],i[1]) for i in x])"
   ]
  },
  {
   "cell_type": "code",
   "execution_count": 53,
   "metadata": {},
   "outputs": [],
   "source": [
    "#Função de custo\n",
    "\n",
    "def  calc_cost(x,y,theta):\n",
    "    return (1/len(y))*np.sum(np.square(y-x.dot(theta.T)))\n",
    "\n",
    "    "
   ]
  },
  {
   "cell_type": "code",
   "execution_count": 54,
   "metadata": {},
   "outputs": [],
   "source": [
    "#Descida do gradiente\n",
    "def gradient_descent(x,y,theta,learning_rate=0.01,iterations=100):\n",
    "    n = len(y)\n",
    "    cost = np.zeros(iterations)\n",
    "    for i in range(iterations):\n",
    "        prediction = np.dot(x,theta) \n",
    "        theta = theta -(learning_rate/n)*np.sum(x.T.dot((prediction - y)))\n",
    "        cost[i] = calc_cost(x, y, theta)\n",
    "        \n",
    "    return theta,cost\n",
    "        "
   ]
  },
  {
   "cell_type": "code",
   "execution_count": 55,
   "metadata": {},
   "outputs": [],
   "source": [
    "#Stochastic Gradient Descent\n",
    "def SGD(x,y,theta,learning_rate=0.05,iterations=1000):\n",
    "    n = len(y)\n",
    "    cost = np.zeros(iterations)\n",
    "    for i in range(iterations):\n",
    "        rand_int = np.random.randint(0,n)\n",
    "        x_i = x[rand_int].reshape(1,x.shape[1])\n",
    "        y_i = y[rand_int].reshape(1,1)\n",
    "\n",
    "        prediction = np.dot(x_i,theta) \n",
    "        theta = theta -(learning_rate/n)*np.sum(x_i.T.dot((prediction - y_i)))\n",
    "        cost[i] += calc_cost(x_i,y_i,theta)\n",
    "        \n",
    "    return theta,cost "
   ]
  },
  {
   "cell_type": "code",
   "execution_count": 56,
   "metadata": {},
   "outputs": [],
   "source": [
    "#Minibatch\n",
    "def mini_batch(x,y,theta,learning_rate=0.01,iterations=200):\n",
    "    n = len(y)\n",
    "    cost = np.zeros(iterations)\n",
    "    for i in range(iterations):\n",
    "        c = 0\n",
    "        for j in range(10):\n",
    "            rand_int = np.random.randint(0,n)\n",
    "            x_i = x[rand_int].reshape(1,x.shape[1])\n",
    "            y_i = y[rand_int].reshape(1,1)\n",
    "\n",
    "            prediction = np.dot(x_i,theta) \n",
    "            theta = theta -(learning_rate/n)*np.sum(x_i.T.dot((prediction - y_i)))\n",
    "            c += calc_cost(x_i,y_i,theta)\n",
    "        \n",
    "        cost[i] = c\n",
    "        \n",
    "    return theta,cost \n",
    "        "
   ]
  },
  {
   "cell_type": "code",
   "execution_count": 57,
   "metadata": {},
   "outputs": [
    {
     "name": "stdout",
     "output_type": "stream",
     "text": [
      "7166.297246849835\n"
     ]
    }
   ],
   "source": [
    "#    0.01\n",
    "learning_rate = 0.01\n",
    "\n",
    "theta1,cost1 = gradient_descent(x,y,np.zeros(3),learning_rate,100)\n",
    "finalCost = calc_cost(x,y,theta)\n",
    "print(finalCost) "
   ]
  },
  {
   "cell_type": "code",
   "execution_count": 58,
   "metadata": {},
   "outputs": [
    {
     "name": "stdout",
     "output_type": "stream",
     "text": [
      "7166.297246849835\n"
     ]
    }
   ],
   "source": [
    "#    0.001\n",
    "learning_rate = 0.001\n",
    "\n",
    "theta2,cost2 = gradient_descent(x,y,np.zeros(3),learning_rate,100)\n",
    "finalCost = calc_cost(x,y,theta)\n",
    "print(finalCost) "
   ]
  },
  {
   "cell_type": "code",
   "execution_count": 59,
   "metadata": {},
   "outputs": [
    {
     "name": "stdout",
     "output_type": "stream",
     "text": [
      "7166.297246849835\n"
     ]
    }
   ],
   "source": [
    "#    0.00005\n",
    "learning_rate = 0.00005\n",
    "theta3,cost3 = gradient_descent(x,y,np.zeros(3),learning_rate,100)\n",
    "finalCost = calc_cost(x,y,theta)\n",
    "print(finalCost) "
   ]
  },
  {
   "cell_type": "code",
   "execution_count": 60,
   "metadata": {},
   "outputs": [
    {
     "data": {
      "text/plain": [
       "Text(0.5, 1.0, 'Sharing X axis')"
      ]
     },
     "execution_count": 60,
     "metadata": {},
     "output_type": "execute_result"
    },
    {
     "data": {
      "image/png": "[encoded data removed]",
      "text/plain": [
       "<Figure size 432x288 with 1 Axes>"
      ]
     },
     "metadata": {
      "needs_background": "light"
     },
     "output_type": "display_data"
    },
    {
     "data": {
      "image/png": "[encoded data removed]",
      "text/plain": [
       "<Figure size 432x288 with 2 Axes>"
      ]
     },
     "metadata": {
      "needs_background": "light"
     },
     "output_type": "display_data"
    }
   ],
   "source": [
    "fig, ax = plt.subplots() \n",
    "\n",
    "plt.subplot(1, 2, 1)\n",
    "#ax.plot(np.arange(len(cost)), cost, 'r')  \n",
    "#ax.set_xlabel('Iterações')  \n",
    "#ax.set_ylabel('Custo')  \n",
    "#ax.set_title('Erro vs Época') \n",
    "\n",
    "\n",
    "# Two subplots, the axes array is 1-d\n",
    "f, axarr = plt.subplots(2, sharex=True)\n",
    "axarr[0].plot(np.arange(len(cost1)), cost1, 'r') \n",
    "axarr[0].set_title('Sharing X axis')\n",
    "#axarr[1].scatter(x, y)"
   ]
  },
  {
   "cell_type": "code",
   "execution_count": 396,
   "metadata": {},
   "outputs": [],
   "source": [
    "a = [1,2,3,4,5]"
   ]
  },
  {
   "cell_type": "code",
   "execution_count": 399,
   "metadata": {},
   "outputs": [
    {
     "data": {
      "text/plain": [
       "[1, 2, 3]"
      ]
     },
     "execution_count": 399,
     "metadata": {},
     "output_type": "execute_result"
    }
   ],
   "source": []
  },
  {
   "cell_type": "code",
   "execution_count": null,
   "metadata": {},
   "outputs": [],
   "source": []
  }
 ],
 "metadata": {
  "kernelspec": {
   "display_name": "Python 3",
   "language": "python",
   "name": "python3"
  },
  "language_info": {
   "codemirror_mode": {
    "name": "ipython",
    "version": 3
   },
   "file_extension": ".py",
   "mimetype": "text/x-python",
   "name": "python",
   "nbconvert_exporter": "python",
   "pygments_lexer": "ipython3",
   "version": "3.7.3"
  }
 },
 "nbformat": 4,
 "nbformat_minor": 2
}

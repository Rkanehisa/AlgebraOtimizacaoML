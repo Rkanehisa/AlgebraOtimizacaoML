{
 "cells": [
  {
   "cell_type": "code",
   "execution_count": 437,
   "metadata": {},
   "outputs": [],
   "source": [
    "import numpy as np\n",
    "import random\n",
    "import sklearn\n",
    "from sklearn.datasets.samples_generator import make_regression \n",
    "import pylab\n",
    "from scipy import stats\n",
    "import matplotlib.pyplot as plt\n",
    "\n",
    "from mpl_toolkits.mplot3d import Axes3D"
   ]
  },
  {
   "cell_type": "code",
   "execution_count": 438,
   "metadata": {},
   "outputs": [],
   "source": [
    "x = np.load(\"Ex3X.npy\")\n",
    "y = np.load(\"Ex3y.npy\")\n",
    "\n",
    "x = np.array([(1,i[0],i[1]) for i in x])"
   ]
  },
  {
   "cell_type": "code",
   "execution_count": 439,
   "metadata": {},
   "outputs": [],
   "source": [
    "def  calc_cost(x,y,theta):\n",
    "    return (1/len(y))*np.sum(np.square(y-x.dot(theta)))\n",
    "\n",
    "    "
   ]
  },
  {
   "cell_type": "code",
   "execution_count": 440,
   "metadata": {},
   "outputs": [],
   "source": [
    "def gradient_descent(x,y,theta,learning_rate=0.01,iterations=100):\n",
    "    n = len(y)\n",
    "    cost = np.zeros(iterations)\n",
    "    for i in range(iterations):\n",
    "        prediction = np.dot(x,theta) \n",
    "        theta = theta -(learning_rate/n)*np.sum(x.T.dot((prediction - y)))\n",
    "        cost[i] = calc_cost(x, y, theta)\n",
    "        \n",
    "    return theta,cost\n",
    "        "
   ]
  },
  {
   "cell_type": "code",
   "execution_count": 441,
   "metadata": {},
   "outputs": [],
   "source": [
    "def SGD(x,y,theta,learning_rate=0.05,iterations=1000):\n",
    "    n = len(y)\n",
    "    cost = np.zeros(iterations)\n",
    "    for i in range(iterations):\n",
    "        c = 0\n",
    "        for j in range(1):\n",
    "            rand_int = np.random.randint(0,n)\n",
    "            x_i = x[rand_int].reshape(1,x.shape[1])\n",
    "            y_i = y[rand_int].reshape(1,1)\n",
    "\n",
    "            prediction = np.dot(x_i,theta) \n",
    "            theta = theta -(learning_rate/n)*np.sum(x_i.T.dot((prediction - y_i)))\n",
    "            c += calc_cost(x_i,y_i,theta)\n",
    "        \n",
    "        cost[i] = c\n",
    "        \n",
    "    return theta,cost "
   ]
  },
  {
   "cell_type": "code",
   "execution_count": 442,
   "metadata": {},
   "outputs": [],
   "source": [
    "def mini_batch(x,y,theta,learning_rate=0.01,iterations=200):\n",
    "    n = len(y)\n",
    "    cost = np.zeros(iterations)\n",
    "    for i in range(iterations):\n",
    "        c = 0\n",
    "        for j in range(10):\n",
    "            rand_int = np.random.randint(0,n)\n",
    "            x_i = x[rand_int].reshape(1,x.shape[1])\n",
    "            y_i = y[rand_int].reshape(1,1)\n",
    "\n",
    "            prediction = np.dot(x_i,theta) \n",
    "            theta = theta -(learning_rate/n)*np.sum(x_i.T.dot((prediction - y_i)))\n",
    "            c += calc_cost(x_i,y_i,theta)\n",
    "        \n",
    "        cost[i] = c\n",
    "        \n",
    "    return theta,cost \n",
    "        "
   ]
  },
  {
   "cell_type": "code",
   "execution_count": 460,
   "metadata": {},
   "outputs": [
    {
     "name": "stderr",
     "output_type": "stream",
     "text": [
      "/home/rkanehisa/.conda/envs/Algebra-trabalho_2/lib/python3.7/site-packages/ipykernel_launcher.py:2: RuntimeWarning: overflow encountered in square\n",
      "  \n",
      "/home/rkanehisa/.conda/envs/Algebra-trabalho_2/lib/python3.7/site-packages/ipykernel_launcher.py:6: RuntimeWarning: invalid value encountered in subtract\n",
      "  \n"
     ]
    },
    {
     "name": "stdout",
     "output_type": "stream",
     "text": [
      "nan\n"
     ]
    }
   ],
   "source": [
    "#    0.01\n",
    "#    0.001\n",
    "#    0.00005\n",
    "alpha = 0.01\n",
    "ep = 0.01\n",
    "#theta,cost = gradient_descent(x,y,np.zeros(3),alpha)\n",
    "\n",
    "theta,cost = gradient_descent(x,y,np.zeros(3),alpha,10000)\n",
    "\n",
    "\n",
    "finalCost = calc_cost(x,y,theta)\n",
    "print(finalCost) "
   ]
  },
  {
   "cell_type": "code",
   "execution_count": 459,
   "metadata": {},
   "outputs": [
    {
     "data": {
      "text/plain": [
       "Text(0.5, 1.0, 'Error vs. Training Epoch')"
      ]
     },
     "execution_count": 459,
     "metadata": {},
     "output_type": "execute_result"
    },
    {
     "data": {
      "image/png": "[encoded data removed]",
      "text/plain": [
       "<Figure size 432x288 with 1 Axes>"
      ]
     },
     "metadata": {
      "needs_background": "light"
     },
     "output_type": "display_data"
    }
   ],
   "source": [
    "fig, ax = plt.subplots()  \n",
    "ax.plot(np.arange(len(cost)), cost, 'r')  \n",
    "ax.set_xlabel('Iterations')  \n",
    "ax.set_ylabel('Cost')  \n",
    "ax.set_title('Error vs. Training Epoch') \n"
   ]
  },
  {
   "cell_type": "code",
   "execution_count": 396,
   "metadata": {},
   "outputs": [],
   "source": [
    "a = [1,2,3,4,5]"
   ]
  },
  {
   "cell_type": "code",
   "execution_count": 399,
   "metadata": {},
   "outputs": [
    {
     "data": {
      "text/plain": [
       "[1, 2, 3]"
      ]
     },
     "execution_count": 399,
     "metadata": {},
     "output_type": "execute_result"
    }
   ],
   "source": []
  },
  {
   "cell_type": "code",
   "execution_count": null,
   "metadata": {},
   "outputs": [],
   "source": []
  }
 ],
 "metadata": {
  "kernelspec": {
   "display_name": "Python 3",
   "language": "python",
   "name": "python3"
  },
  "language_info": {
   "codemirror_mode": {
    "name": "ipython",
    "version": 3
   },
   "file_extension": ".py",
   "mimetype": "text/x-python",
   "name": "python",
   "nbconvert_exporter": "python",
   "pygments_lexer": "ipython3",
   "version": "3.7.3"
  }
 },
 "nbformat": 4,
 "nbformat_minor": 2
}

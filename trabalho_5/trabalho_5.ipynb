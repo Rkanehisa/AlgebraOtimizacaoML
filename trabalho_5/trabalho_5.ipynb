{
 "cells": [
  {
   "cell_type": "code",
   "execution_count": 1,
   "metadata": {},
   "outputs": [],
   "source": [
    "from sklearn import svm\n",
    "from sklearn.metrics import mean_squared_error\n",
    "import numpy as np\n",
    "import matplotlib.pyplot as plt\n",
    "from sklearn.model_selection import GridSearchCV\n",
    "from sklearn.model_selection import RandomizedSearchCV\n",
    "from sklearn.metrics import mean_squared_error, make_scorer\n",
    "import time"
   ]
  },
  {
   "cell_type": "code",
   "execution_count": 2,
   "metadata": {},
   "outputs": [],
   "source": [
    "xtreino = np.load(\"Xtreino5.npy\")\n",
    "ytreino = np.load(\"ytreino5.npy\")\n",
    "xtest = np.load(\"Xteste5.npy\")\n",
    "ytest = np.load(\"yteste5.npy\")"
   ]
  },
  {
   "cell_type": "code",
   "execution_count": 36,
   "metadata": {},
   "outputs": [],
   "source": [
    "def report(results, n_top=1):\n",
    "    for i in range(1, n_top + 1):\n",
    "        candidates = np.flatnonzero(results['rank_test_score'] == i)\n",
    "        for candidate in candidates:\n",
    "            print(\"Model with rank: {0}\".format(i))\n",
    "            print(\"Mean validation score: {0:.3f} (std: {1:.3f})\".format(\n",
    "                  results['mean_test_score'][candidate],\n",
    "                  results['std_test_score'][candidate]))\n",
    "            print(\"Parameters: {0}\".format(results['params'][candidate]))\n",
    "            print(\"\")"
   ]
  },
  {
   "cell_type": "markdown",
   "metadata": {},
   "source": [
    "<ul>\n",
    "    <li>C entre $2^{-5}$ e $2^{15}$ (uniforme nos expoentes)</li>\n",
    "    <li>gamma entre $2^{-15}$ e $2^3$ (uniforme nos expoentes)</li>\n",
    "    <li>epsilon entre 0.05 a 1.0 (uniforme neste intervalo)</li>\n",
    "</ul>"
   ]
  },
  {
   "cell_type": "code",
   "execution_count": 37,
   "metadata": {},
   "outputs": [
    {
     "name": "stdout",
     "output_type": "stream",
     "text": [
      "SVR complexity and bandwidth selected and model fitted in 201.654712 s\n",
      "\n",
      "Model with rank: 1\n",
      "Mean validation score: 91.643 (std: 22.387)\n",
      "Parameters: {'gamma': 1.935507005260837, 'epsilon': 0.35330645161290325, 'C': 0.03125}\n",
      "\n",
      "None\n"
     ]
    }
   ],
   "source": [
    "clf = svm.SVR(kernel=\"rbf\")\n",
    "n_iters = 125\n",
    "param_distributions = {\"C\":np.linspace(2**-5,2**15,n_iters),\n",
    "                       \"gamma\":np.linspace(2**-15,2**3,n_iters),\n",
    "                       \"epsilon\":np.linspace(10**-2,1,n_iters)}\n",
    "\n",
    "score = make_scorer(mean_squared_error)\n",
    "\n",
    "t0 = time.time()\n",
    "\n",
    "svr = RandomizedSearchCV(clf,param_distributions , n_iter=n_iters, scoring=score, cv=5, iid=True)\n",
    "svr.fit(xtreino, ytreino)\n",
    "\n",
    "svr_fit_time = time.time() - t0\n",
    "\n",
    "print(\"SVR complexity and bandwidth selected and model fitted in %f s\\n\" % svr_fit)\n",
    "\n",
    "print(report(svr.cv_results_))"
   ]
  },
  {
   "cell_type": "code",
   "execution_count": 38,
   "metadata": {},
   "outputs": [
    {
     "name": "stdout",
     "output_type": "stream",
     "text": [
      "SVR complexity and bandwidth selected and model fitted in 96.165771 s\n",
      "\n",
      "Model with rank: 1\n",
      "Mean validation score: 92.039 (std: 22.863)\n",
      "Parameters: {'C': 0.03125, 'epsilon': 0.01, 'gamma': 8.0}\n",
      "\n",
      "None\n"
     ]
    }
   ],
   "source": [
    "clf = svm.SVR(kernel=\"rbf\")\n",
    "n_iters = 5\n",
    "\n",
    "\n",
    "param_distributions = {\"C\":np.linspace(2**-5,2**15,n_iters),\n",
    "                       \"gamma\":np.linspace(2**-15,2**3,n_iters),\n",
    "                       \"epsilon\":np.linspace(10**-2,1,n_iters)}\n",
    "\n",
    "score = make_scorer(mean_squared_error)\n",
    "\n",
    "svr =  GridSearchCV(clf,param_distributions, scoring=score, iid=True, cv=5)\n",
    "\n",
    "svr.fit(xtreino, ytreino)\n",
    "svr_fit = time.time() - t0\n",
    "print(\"SVR complexity and bandwidth selected and model fitted in %f s\\n\" % svr_fit)\n",
    "\n",
    "print(report(svr.cv_results_))"
   ]
  },
  {
   "cell_type": "code",
   "execution_count": null,
   "metadata": {},
   "outputs": [],
   "source": []
  }
 ],
 "metadata": {
  "kernelspec": {
   "display_name": "Python 3",
   "language": "python",
   "name": "python3"
  },
  "language_info": {
   "codemirror_mode": {
    "name": "ipython",
    "version": 3
   },
   "file_extension": ".py",
   "mimetype": "text/x-python",
   "name": "python",
   "nbconvert_exporter": "python",
   "pygments_lexer": "ipython3",
   "version": "3.7.3"
  }
 },
 "nbformat": 4,
 "nbformat_minor": 2
}

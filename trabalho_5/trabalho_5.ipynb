{
 "cells": [
  {
   "cell_type": "code",
   "execution_count": 15,
   "metadata": {},
   "outputs": [],
   "source": [
    "from sklearn import svm\n",
    "from sklearn.svm import SVR\n",
    "from sklearn.metrics import mean_squared_error\n",
    "import numpy as np\n",
    "import matplotlib.pyplot as plt\n",
    "from sklearn.model_selection import GridSearchCV\n",
    "from sklearn.model_selection import RandomizedSearchCV\n",
    "from sklearn.metrics import mean_squared_error, make_scorer\n",
    "from hyperopt import rand, tpe, fmin, hp, Trials\n",
    "import time\n",
    "from pyswarm import pso\n",
    "from simanneal import Annealer\n",
    "import cma"
   ]
  },
  {
   "cell_type": "code",
   "execution_count": 16,
   "metadata": {},
   "outputs": [],
   "source": [
    "xtreino = np.load(\"Xtreino5.npy\")\n",
    "ytreino = np.load(\"ytreino5.npy\")\n",
    "xtest = np.load(\"Xteste5.npy\")\n",
    "ytest = np.load(\"yteste5.npy\")\n",
    "\n",
    "clf = svm.SVR(kernel=\"rbf\")"
   ]
  },
  {
   "cell_type": "markdown",
   "metadata": {},
   "source": [
    "<hr>\n",
    "\n",
    "<h2>Intervalo dos hiperparâmetros:</h2><br>\n",
    "\n",
    "<ul>\n",
    "    <li>C entre $2^{-5}$ e $2^{15}$ (uniforme nos expoentes)</li>\n",
    "    <li>gamma entre $2^{-15}$ e $2^3$ (uniforme nos expoentes)</li>\n",
    "    <li>epsilon entre 0.05 a 1.0 (uniforme neste intervalo)</li>\n",
    "</ul>\n",
    "\n",
    "<hr>\n",
    "\n",
    "<h3>1 - Random search</h3>"
   ]
  },
  {
   "cell_type": "code",
   "execution_count": 28,
   "metadata": {},
   "outputs": [],
   "source": [
    "n_iters = 125\n",
    "param_distributions = {\"C\":np.random.uniform(2**-5,2**15,n_iters),\n",
    "                       \"gamma\":np.random.uniform(2**-15,2**3,n_iters),\n",
    "                       \"epsilon\":np.random.uniform(10**-2,1,n_iters)}\n",
    "\n",
    "score = make_scorer(mean_squared_error)\n",
    "\n",
    "svr = RandomizedSearchCV(clf,param_distributions , n_iter=n_iters, scoring=score, cv=5, iid=True)\n",
    "svr.fit(xtreino, ytreino)\n",
    "error = mean_squared_error(svr.predict(xtest), ytest)"
   ]
  },
  {
   "cell_type": "code",
   "execution_count": 29,
   "metadata": {
    "scrolled": true
   },
   "outputs": [
    {
     "name": "stdout",
     "output_type": "stream",
     "text": [
      "Parameters: {'gamma': 2.465835903429985, 'epsilon': 0.4384722419842344, 'C': 3097.5557028954627}\n",
      "Mean squared error: 67.141073\n"
     ]
    }
   ],
   "source": [
    "print(\"Parameters: {0}\".format(svr.cv_results_['params'][0]))\n",
    "print(\"Mean squared error: %f\" % (error))"
   ]
  },
  {
   "cell_type": "markdown",
   "metadata": {},
   "source": [
    "<hr>\n",
    "<br>\n",
    "<h3>2 - Grid search</h3>\n",
    "<hr>"
   ]
  },
  {
   "cell_type": "code",
   "execution_count": 30,
   "metadata": {},
   "outputs": [],
   "source": [
    "n_iters = 5\n",
    "\n",
    "param_distributions = {\"C\":np.random.uniform(2**-5,2**15,n_iters),\n",
    "                       \"gamma\":np.random.uniform(2**-15,2**3,n_iters),\n",
    "                       \"epsilon\":np.random.uniform(10**-2,1,n_iters)}\n",
    "\n",
    "\n",
    "score = make_scorer(mean_squared_error)\n",
    "\n",
    "svr =  GridSearchCV(clf,param_distributions, scoring=score, iid=True, cv=5)\n",
    "\n",
    "svr.fit(xtreino, ytreino)\n",
    "error = mean_squared_error(svr.predict(xtest), ytest)\n"
   ]
  },
  {
   "cell_type": "code",
   "execution_count": 31,
   "metadata": {},
   "outputs": [
    {
     "name": "stdout",
     "output_type": "stream",
     "text": [
      "Parameters: {'C': 11824.737465935685, 'epsilon': 0.6192314771982733, 'gamma': 6.890367090185687}\n",
      "Mean squared error: 67.144007\n"
     ]
    }
   ],
   "source": [
    "print(\"Parameters: {0}\".format(svr.cv_results_['params'][0]))\n",
    "print(\"Mean squared error: %f\" % (error))"
   ]
  },
  {
   "cell_type": "markdown",
   "metadata": {},
   "source": [
    "<hr>\n",
    "<br>\n",
    "<h3>3 - Otimização bayesiana</h3>\n",
    "<hr>"
   ]
  },
  {
   "cell_type": "code",
   "execution_count": 32,
   "metadata": {},
   "outputs": [],
   "source": [
    "def objective(args):\n",
    "    gamma = args[0][1]\n",
    "    C = args[1][1]\n",
    "    epsilon = args[2][1]\n",
    "    clf = svm.SVR(kernel=\"rbf\",gamma=gamma,C=C,epsilon=epsilon)\n",
    "    clf.fit(xtreino,ytreino)\n",
    "    return mean_squared_error(svr.predict(xtest), ytest)\n",
    "\n",
    "space = [('gamma', hp.uniform('gamma', 2**-15,2**3)),\n",
    "        ('C', hp.uniform('C', 2**-5,2**15)),\n",
    "        ('epsilon', hp.uniform('epsilon', 10**-2,1))]"
   ]
  },
  {
   "cell_type": "code",
   "execution_count": 33,
   "metadata": {},
   "outputs": [
    {
     "name": "stdout",
     "output_type": "stream",
     "text": [
      "100%|██████████| 125/125 [00:01<00:00, 63.99it/s, best loss: 67.14400667426125]\n"
     ]
    }
   ],
   "source": [
    "tpe_algo = tpe.suggest\n",
    "\n",
    "tpe_trials = Trials()\n",
    "tpe_best = fmin(fn=objective, space=space, algo=tpe_algo, trials=tpe_trials, \n",
    "                max_evals=125, rstate= np.random.RandomState(50))\n",
    "\n",
    "\n"
   ]
  },
  {
   "cell_type": "code",
   "execution_count": 34,
   "metadata": {},
   "outputs": [
    {
     "name": "stdout",
     "output_type": "stream",
     "text": [
      "Parameters: {'C': 19612.051235, 'epsilon': 0.588700, 'gamma': 7.969371}\n",
      "Mean squared error: 67.123088\n"
     ]
    }
   ],
   "source": [
    "svr = SVR(kernel=\"rbf\",C=tpe_best[\"C\"],epsilon = tpe_best[\"epsilon\"],gamma = tpe_best[\"gamma\"])\n",
    "svr.fit(xtreino, ytreino)\n",
    "error = mean_squared_error(svr.predict(xtest), ytest)\n",
    "\n",
    "print(\"Parameters: {'C': %f, 'epsilon': %f, 'gamma': %f}\" % ((tpe_best[\"C\"]),(tpe_best[\"epsilon\"]),tpe_best[\"gamma\"]))\n",
    "print(\"Mean squared error: %f\" % (error))"
   ]
  },
  {
   "cell_type": "markdown",
   "metadata": {},
   "source": [
    "<hr>\n",
    "<br>\n",
    "<h3>4 - PSO</h3>\n",
    "<hr>"
   ]
  },
  {
   "cell_type": "code",
   "execution_count": 39,
   "metadata": {},
   "outputs": [
    {
     "name": "stdout",
     "output_type": "stream",
     "text": [
      "Stopping search: maximum iterations reached --> 11\n"
     ]
    }
   ],
   "source": [
    "def run_SVR(c,gamma,epsilon):\n",
    "    #Run SVM\n",
    "    clf = SVR(gamma=gamma, C=c, epsilon=epsilon,kernel='rbf')\n",
    "    clf.fit(xtreino,ytreino)\n",
    "    Y_pred = clf.predict(xtest)\n",
    "    # calulate MSE\n",
    "    mse = np.sum((Y_pred - ytest)**2)\n",
    "    mse /= Y_pred.shape[0]\n",
    "    return mse\n",
    "def run_SVR_params(params):\n",
    "    c = 2**params['c']\n",
    "    gamma = 2**params['gamma']\n",
    "    epsilon = params['epsilon']\n",
    "    mse = run_SVR(c,gamma,epsilon)\n",
    "    return mse\n",
    "\n",
    "def run_SVR_vect(X):\n",
    "    c = 2**X[0]\n",
    "    gamma = 2**X[1]\n",
    "    epsilon = X[2]\n",
    "    mse = run_SVR(c,gamma,epsilon)\n",
    "    return mse\n",
    "\n",
    "#Search space\n",
    "lb = [-5, -15, 0.05]\n",
    "ub = [15,3,1]\n",
    "\n",
    "xopt, fopt = pso(run_SVR_vect, lb, ub, swarmsize=11, omega=0.5, phip=0.5, phig=0.5, minfunc=1e-8, maxiter=11, debug=False)"
   ]
  },
  {
   "cell_type": "code",
   "execution_count": 40,
   "metadata": {},
   "outputs": [],
   "source": [
    "pso_clf = SVR(C=2**(xopt[0]),gamma=2**(xopt[1]),epsilon=xopt[2])\n",
    "pso_clf.fit(xtreino, ytreino)\n",
    "y_predito = pso_clf.predict(xtest)\n",
    "error = mean_squared_error(ytest, y_predito)"
   ]
  },
  {
   "cell_type": "code",
   "execution_count": 43,
   "metadata": {},
   "outputs": [
    {
     "name": "stdout",
     "output_type": "stream",
     "text": [
      "Parameters: {'C': 27264.048703, 'epsilon': 0.276275, 'gamma': 0.000031}\n",
      "Mean squared error: 11.665856\n"
     ]
    }
   ],
   "source": [
    "print(\"Parameters: {'C': %f, 'epsilon': %f, 'gamma': %f}\" % (2**(xopt[0]),xopt[2],2**(xopt[1])))\n",
    "print(\"Mean squared error: %f\" % (error))"
   ]
  },
  {
   "cell_type": "markdown",
   "metadata": {},
   "source": [
    "<hr>\n",
    "<br>\n",
    "<h3>5 - Simulated Annealing</h3>\n",
    "<hr>"
   ]
  },
  {
   "cell_type": "code",
   "execution_count": 44,
   "metadata": {},
   "outputs": [
    {
     "name": "stderr",
     "output_type": "stream",
     "text": [
      " Temperature        Energy    Accept   Improve     Elapsed   Remaining\n",
      "     2.50000          7.62     0.00%     0.00%     0:00:07     0:00:00"
     ]
    }
   ],
   "source": [
    "def objective(args):\n",
    "    tam_treino=xtreino.shape[0]\n",
    "    perm=np.random.permutation(np.arange(tam_treino))\n",
    "    idx_treino=perm[:int(tam_treino*0.85)]\n",
    "    idx_val=perm[int(tam_treino*0.85):]\n",
    "    svm = SVR(kernel='rbf',C=2**args['C'], gamma=2**args['gamma'], epsilon=args['epsilon'])\n",
    "    svm.fit(xtreino[idx_treino], ytreino[idx_treino])\n",
    "    return mean_squared_error(ytreino[idx_val], svm.predict(xtreino[idx_val]))\n",
    "\n",
    "class OptSVR(Annealer):\n",
    "    def __init__(self, state):\n",
    "        super(OptSVR,self).__init__(state)\n",
    "    def move(self):\n",
    "        new_C = np.random.uniform(low=-5, high=15)\n",
    "        new_gamma = np.random.uniform(low=-15, high=3)\n",
    "        new_epsilon = np.random.uniform(low=0.05, high=1.0)\n",
    "        self.state['C'] = new_C\n",
    "        self.state['gamma'] = new_gamma\n",
    "        self.state['epsilon'] = new_epsilon\n",
    "    def energy(self):\n",
    "        return objective(self.state)\n",
    "    \n",
    "init_C = np.random.uniform(low=-5, high=15)\n",
    "init_gamma = np.random.uniform(low=-15, high=3)\n",
    "init_epsilon = np.random.uniform(low=0.05, high=1.0)\n",
    "\n",
    "init_state={'C': init_C,'gamma': init_gamma,'epsilon': init_epsilon}\n",
    "svrpp = OptSVR(init_state)\n",
    "svrpp.steps = 125\n",
    "\n",
    "svrpp.copy_strategy = \"deepcopy\"\n",
    "state, e = svrpp.anneal()\n",
    "anneal_clf = SVR(C=2**(state['C']), gamma=2**(state['gamma']), epsilon=state['epsilon'])\n",
    "\n",
    "anneal_clf.fit(xtreino, ytreino)\n",
    "anneal_y_predito=anneal_clf.predict(xtest)\n",
    "error = mean_squared_error(anneal_y_predito, ytest)\n",
    "state['C']=2**(state['C'])\n",
    "state['gamma']=2**(state['gamma'])\n",
    "\n"
   ]
  },
  {
   "cell_type": "code",
   "execution_count": 45,
   "metadata": {},
   "outputs": [
    {
     "name": "stdout",
     "output_type": "stream",
     "text": [
      "Parameters: {'C': 5838.440009, 'epsilon': 0.000032, 'gamma': 0.674824}\n",
      "Mean squared error: 14.413705\n"
     ]
    }
   ],
   "source": [
    "print(\"Parameters: {'C': %f, 'epsilon': %f, 'gamma': %f}\" % (state['C'], state['gamma'], state['epsilon']))\n",
    "print(\"Mean squared error: %f\" % (error))"
   ]
  },
  {
   "cell_type": "markdown",
   "metadata": {},
   "source": [
    "<hr>\n",
    "<br>\n",
    "<h3>6 - CMA-ES</h3>\n",
    "<hr>"
   ]
  },
  {
   "cell_type": "code",
   "execution_count": 47,
   "metadata": {},
   "outputs": [
    {
     "name": "stdout",
     "output_type": "stream",
     "text": [
      "(3_w,7)-aCMA-ES (mu_w=2.3,w_1=58%) in dimension 3 (seed=918622, Thu May  2 20:17:43 2019)\n",
      "Iterat #Fevals   function value  axis ratio  sigma  min&max std  t[m:s]\n",
      "    1      7 4.274083051234745e+01 1.0e+00 2.78e-01  2e-01  6e+00 0:00.1\n",
      "    2     14 4.630522374453901e+01 1.2e+00 3.94e-01  4e-01  8e+00 0:00.3\n",
      "    3     21 2.614134150329174e+01 1.1e+00 3.42e-01  4e-01  7e+00 0:06.4\n",
      "   10     70 2.145251981984535e+01 2.3e+00 2.26e-01  2e-01  3e+00 0:11.5\n",
      "   13     91 1.030061239195111e+01 2.7e+00 2.00e-01  3e-01  2e+00 0:16.4\n",
      "   16    112 1.031134973992588e+01 3.4e+00 1.55e-01  2e-01  1e+00 0:23.7\n",
      "   18    126 1.196600049968051e+01 3.5e+00 1.44e-01  2e-01  1e+00 0:28.8\n"
     ]
    }
   ],
   "source": [
    "def objective_cmaes(args):\n",
    "    tam_treino=xtreino.shape[0]\n",
    "    perm=np.random.permutation(np.arange(tam_treino))\n",
    "    idx_treino=perm[:int(tam_treino*0.85)]\n",
    "    idx_val=perm[int(tam_treino*0.85):]\n",
    "    if (args[2] < 0):\n",
    "        args[2] = 0\n",
    "    clf = svm.SVR(kernel='rbf', C=2**args[0],gamma=2**args[1],epsilon=args[2])\n",
    "    clf.fit(xtreino[idx_treino], ytreino[idx_treino])\n",
    "    return mean_squared_error(ytreino[idx_val], clf.predict(xtreino[idx_val]))\n",
    "\n",
    "init_C = np.random.uniform(low=-5, high=15)\n",
    "init_gamma = np.random.uniform(low=-15, high=3)\n",
    "init_epsilon = np.random.uniform(low=0.05, high=1.0)\n",
    "init_state = [init_C, init_gamma, init_epsilon]\n",
    "es = cma.CMAEvolutionStrategy(init_state,0.3,{'maxfevals': 125,\"CMA_stds\": [20, 20, 1]}).optimize(objective_cmaes).result"
   ]
  },
  {
   "cell_type": "code",
   "execution_count": 51,
   "metadata": {},
   "outputs": [
    {
     "name": "stdout",
     "output_type": "stream",
     "text": [
      "Parameters: {'C': 21115.262788784814, 'gamma': 4.881109839331006e-06, 'epsilon': 0.4487052589763859}\n",
      "Mean squared error: 17.564983\n"
     ]
    }
   ],
   "source": [
    "xbest = es.xbest\n",
    "cmaes_clf = svm.SVR(C=2**(xbest[0]),\n",
    "gamma=2**(xbest[1]),\n",
    "epsilon=xbest[2])\n",
    "cmaes_clf.fit(xtreino, ytreino)\n",
    "cmaes_y_predito=cmaes_clf.predict(xtest)\n",
    "error = mean_squared_error(cmaes_y_predito, ytest)\n",
    "\n",
    "parameters = {'C': 2**(xbest[0]),'gamma': 2**(xbest[1]),'epsilon': xbest[2]}\n",
    "\n",
    "print(\"Parameters:\",parameters)\n",
    "print(\"Mean squared error: %f\" % (error))"
   ]
  },
  {
   "cell_type": "code",
   "execution_count": null,
   "metadata": {},
   "outputs": [],
   "source": []
  }
 ],
 "metadata": {
  "kernelspec": {
   "display_name": "Python 3",
   "language": "python",
   "name": "python3"
  },
  "language_info": {
   "codemirror_mode": {
    "name": "ipython",
    "version": 3
   },
   "file_extension": ".py",
   "mimetype": "text/x-python",
   "name": "python",
   "nbconvert_exporter": "python",
   "pygments_lexer": "ipython3",
   "version": "3.7.3"
  }
 },
 "nbformat": 4,
 "nbformat_minor": 2
}

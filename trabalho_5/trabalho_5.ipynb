{
 "cells": [
  {
   "cell_type": "code",
   "execution_count": 35,
   "metadata": {},
   "outputs": [],
   "source": [
    "from sklearn import svm\n",
    "from sklearn.metrics import mean_squared_error\n",
    "import numpy as np\n",
    "import matplotlib.pyplot as plt\n",
    "from sklearn.model_selection import GridSearchCV\n",
    "from sklearn.model_selection import RandomizedSearchCV\n",
    "from sklearn.metrics import mean_squared_error, make_scorer\n",
    "from hyperopt import rand, tpe, fmin, hp, Trials\n",
    "import time"
   ]
  },
  {
   "cell_type": "code",
   "execution_count": 17,
   "metadata": {},
   "outputs": [],
   "source": [
    "xtreino = np.load(\"Xtreino5.npy\")\n",
    "ytreino = np.load(\"ytreino5.npy\")\n",
    "xtest = np.load(\"Xteste5.npy\")\n",
    "ytest = np.load(\"yteste5.npy\")\n",
    "\n",
    "clf = svm.SVR(kernel=\"rbf\")"
   ]
  },
  {
   "cell_type": "markdown",
   "metadata": {},
   "source": [
    "<hr>\n",
    "\n",
    "<h2>Intervalo dos hiperparâmetros:</h2><br>\n",
    "\n",
    "<ul>\n",
    "    <li>C entre $2^{-5}$ e $2^{15}$ (uniforme nos expoentes)</li>\n",
    "    <li>gamma entre $2^{-15}$ e $2^3$ (uniforme nos expoentes)</li>\n",
    "    <li>epsilon entre 0.05 a 1.0 (uniforme neste intervalo)</li>\n",
    "</ul>\n",
    "\n",
    "<hr>\n",
    "\n",
    "<h3>1 - Random search</h3>"
   ]
  },
  {
   "cell_type": "code",
   "execution_count": 18,
   "metadata": {},
   "outputs": [],
   "source": [
    "n_iters = 125\n",
    "param_distributions = {\"C\":np.random.uniform(2**-5,2**15,n_iters),\n",
    "                       \"gamma\":np.random.uniform(2**-15,2**3,n_iters),\n",
    "                       \"epsilon\":np.random.uniform(10**-2,1,n_iters)}\n",
    "\n",
    "score = make_scorer(mean_squared_error)\n",
    "\n",
    "t0 = time.time()\n",
    "\n",
    "svr = RandomizedSearchCV(clf,param_distributions , n_iter=n_iters, scoring=score, cv=5, iid=True)\n",
    "svr.fit(xtreino, ytreino)\n",
    "error = mean_squared_error(svr.predict(xtest), ytest)\n",
    "\n",
    "svr_fit_time = time.time() - t0"
   ]
  },
  {
   "cell_type": "code",
   "execution_count": 14,
   "metadata": {
    "scrolled": true
   },
   "outputs": [
    {
     "name": "stdout",
     "output_type": "stream",
     "text": [
      "SVR complexity and bandwidth selected and model fitted in 6.315539 s\n",
      "\n",
      "Parameters: {'gamma': 4.042537423268548, 'epsilon': 0.4568485267850073, 'C': 9619.36113936479}\n",
      "Mean squared error: 67.145633\n"
     ]
    }
   ],
   "source": [
    "print(\"SVR complexity and bandwidth selected and model fitted in %f s\\n\" % svr_fit_time)\n",
    "print(\"Parameters: {0}\".format(svr.cv_results_['params'][0]))\n",
    "print(\"Mean squared error: %f\" % (error))"
   ]
  },
  {
   "cell_type": "markdown",
   "metadata": {},
   "source": [
    "<hr>\n",
    "<br>\n",
    "<h3>2 - Grid search</h3>\n",
    "<hr>"
   ]
  },
  {
   "cell_type": "code",
   "execution_count": 22,
   "metadata": {},
   "outputs": [],
   "source": [
    "\n",
    "n_iters = 5\n",
    "\n",
    "param_distributions = {\"C\":np.random.uniform(2**-5,2**15,n_iters),\n",
    "                       \"gamma\":np.random.uniform(2**-15,2**3,n_iters),\n",
    "                       \"epsilon\":np.random.uniform(10**-2,1,n_iters)}\n",
    "\n",
    "\n",
    "score = make_scorer(mean_squared_error)\n",
    "\n",
    "svr =  GridSearchCV(clf,param_distributions, scoring=score, iid=True, cv=5)\n",
    "\n",
    "svr.fit(xtreino, ytreino)\n",
    "error = mean_squared_error(svr.predict(xtest), ytest)\n",
    "\n",
    "svr_fit_time = time.time() - t0"
   ]
  },
  {
   "cell_type": "code",
   "execution_count": 23,
   "metadata": {},
   "outputs": [
    {
     "name": "stdout",
     "output_type": "stream",
     "text": [
      "SVR complexity and bandwidth selected and model fitted in 146.364886 s\n",
      "\n",
      "Parameters: {'C': 22143.91274482454, 'epsilon': 0.029571976046935844, 'gamma': 7.596698063392936}\n",
      "Mean squared error: 67.132163\n"
     ]
    }
   ],
   "source": [
    "print(\"SVR complexity and bandwidth selected and model fitted in %f s\\n\" % svr_fit_time)\n",
    "print(\"Parameters: {0}\".format(svr.cv_results_['params'][0]))\n",
    "print(\"Mean squared error: %f\" % (error))"
   ]
  },
  {
   "cell_type": "markdown",
   "metadata": {},
   "source": [
    "<hr>\n",
    "<br>\n",
    "<h3>3 - Otimização bayesiana</h3>\n",
    "<hr>"
   ]
  },
  {
   "cell_type": "code",
   "execution_count": 73,
   "metadata": {},
   "outputs": [],
   "source": [
    "def objective(args):\n",
    "    gamma = args[0][1]\n",
    "    C = args[1][1]\n",
    "    epsilon = args[2][1]\n",
    "    clf = svm.SVR(kernel=\"rbf\",gamma=gamma,C=C,epsilon=epsilon)\n",
    "    clf.fit(xtreino,ytreino)\n",
    "    return mean_squared_error(svr.predict(xtest), ytest)\n",
    "\n",
    "space = [('gamma', hp.uniform('gamma', 2**-15,2**3)),\n",
    "        ('C', hp.uniform('C', 2**-5,2**15)),\n",
    "        ('epsilon', hp.uniform('epsilon', 10**-2,1))]"
   ]
  },
  {
   "cell_type": "code",
   "execution_count": 81,
   "metadata": {},
   "outputs": [
    {
     "name": "stdout",
     "output_type": "stream",
     "text": [
      "100%|██████████| 125/125 [00:01<00:00, 61.38it/s, best loss: 67.13216262297617]\n"
     ]
    }
   ],
   "source": [
    "tpe_algo = tpe.suggest\n",
    "\n",
    "tpe_trials = Trials()\n",
    "tpe_best = fmin(fn=objective, space=space, algo=tpe_algo, trials=tpe_trials, \n",
    "                max_evals=125, rstate= np.random.RandomState(50))"
   ]
  },
  {
   "cell_type": "code",
   "execution_count": 82,
   "metadata": {},
   "outputs": [
    {
     "name": "stdout",
     "output_type": "stream",
     "text": [
      "{'C': 19612.051234748964, 'epsilon': 0.5886997301923083, 'gamma': 7.9693710974198595}\n"
     ]
    }
   ],
   "source": [
    "print(tpe_best)"
   ]
  },
  {
   "cell_type": "markdown",
   "metadata": {},
   "source": [
    "<hr>\n",
    "<br>\n",
    "<h3>4 - PSO</h3>\n",
    "<hr>"
   ]
  },
  {
   "cell_type": "code",
   "execution_count": null,
   "metadata": {},
   "outputs": [],
   "source": []
  }
 ],
 "metadata": {
  "kernelspec": {
   "display_name": "Python 3",
   "language": "python",
   "name": "python3"
  },
  "language_info": {
   "codemirror_mode": {
    "name": "ipython",
    "version": 3
   },
   "file_extension": ".py",
   "mimetype": "text/x-python",
   "name": "python",
   "nbconvert_exporter": "python",
   "pygments_lexer": "ipython3",
   "version": "3.7.3"
  }
 },
 "nbformat": 4,
 "nbformat_minor": 2
}
